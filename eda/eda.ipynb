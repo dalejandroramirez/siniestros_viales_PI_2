{
 "cells": [
  {
   "cell_type": "code",
   "execution_count": 46,
   "metadata": {},
   "outputs": [],
   "source": [
    "import pandas as pd\n",
    "import os\n",
    "\n",
    "import seaborn as sns\n",
    "import matplotlib.pyplot as plt \n",
    "import altair as alt\n"
   ]
  },
  {
   "cell_type": "markdown",
   "metadata": {},
   "source": [
    "# Analisis Exploratorio"
   ]
  },
  {
   "cell_type": "markdown",
   "metadata": {},
   "source": [
    "El objetivo es ..."
   ]
  },
  {
   "cell_type": "markdown",
   "metadata": {},
   "source": [
    "## Carga de data"
   ]
  },
  {
   "cell_type": "code",
   "execution_count": 23,
   "metadata": {},
   "outputs": [],
   "source": [
    "path_hechos = os.path.join('..','data','clear','hechos_homicidios.csv')\n",
    "path_victimas = os.path.join('..','data','clear','victimas_homicidios.csv')"
   ]
  },
  {
   "cell_type": "code",
   "execution_count": 24,
   "metadata": {},
   "outputs": [],
   "source": [
    "hechos = pd.read_csv(path_hechos)\n",
    "victimas = pd.read_csv(path_victimas)"
   ]
  },
  {
   "cell_type": "code",
   "execution_count": 26,
   "metadata": {},
   "outputs": [
    {
     "data": {
      "text/html": [
       "<div>\n",
       "<style scoped>\n",
       "    .dataframe tbody tr th:only-of-type {\n",
       "        vertical-align: middle;\n",
       "    }\n",
       "\n",
       "    .dataframe tbody tr th {\n",
       "        vertical-align: top;\n",
       "    }\n",
       "\n",
       "    .dataframe thead th {\n",
       "        text-align: right;\n",
       "    }\n",
       "</style>\n",
       "<table border=\"1\" class=\"dataframe\">\n",
       "  <thead>\n",
       "    <tr style=\"text-align: right;\">\n",
       "      <th></th>\n",
       "      <th>id_hechos</th>\n",
       "      <th>n_victimas</th>\n",
       "      <th>fecha</th>\n",
       "      <th>anho</th>\n",
       "      <th>mes</th>\n",
       "      <th>dia</th>\n",
       "      <th>hora</th>\n",
       "      <th>franja_horaria</th>\n",
       "      <th>lugar_del_hecho</th>\n",
       "      <th>tipo_de_calle</th>\n",
       "      <th>calle</th>\n",
       "      <th>direccion_normalizada</th>\n",
       "      <th>comuna</th>\n",
       "      <th>longitud</th>\n",
       "      <th>latitud</th>\n",
       "      <th>participantes</th>\n",
       "      <th>victimas</th>\n",
       "      <th>acusado</th>\n",
       "      <th>Cruce_boolean</th>\n",
       "    </tr>\n",
       "  </thead>\n",
       "  <tbody>\n",
       "    <tr>\n",
       "      <th>0</th>\n",
       "      <td>2016-0001</td>\n",
       "      <td>1</td>\n",
       "      <td>2016-01-01</td>\n",
       "      <td>2016</td>\n",
       "      <td>1</td>\n",
       "      <td>1</td>\n",
       "      <td>04:00:00</td>\n",
       "      <td>4.0</td>\n",
       "      <td>AV PIEDRA BUENA Y AV FERNANDEZ DE LA CRUZ</td>\n",
       "      <td>AVENIDA</td>\n",
       "      <td>PIEDRA BUENA AV.</td>\n",
       "      <td>PIEDRA BUENA AV. y FERNANDEZ DE LA CRUZ, F., G...</td>\n",
       "      <td>8</td>\n",
       "      <td>-58.475340</td>\n",
       "      <td>-34.687570</td>\n",
       "      <td>MOTO-AUTO</td>\n",
       "      <td>MOTO</td>\n",
       "      <td>AUTO</td>\n",
       "      <td>True</td>\n",
       "    </tr>\n",
       "    <tr>\n",
       "      <th>1</th>\n",
       "      <td>2016-0002</td>\n",
       "      <td>1</td>\n",
       "      <td>2016-01-02</td>\n",
       "      <td>2016</td>\n",
       "      <td>1</td>\n",
       "      <td>2</td>\n",
       "      <td>01:15:00</td>\n",
       "      <td>1.0</td>\n",
       "      <td>AV GRAL PAZ  Y AV DE LOS CORRALES</td>\n",
       "      <td>GRAL PAZ</td>\n",
       "      <td>PAZ, GRAL. AV.</td>\n",
       "      <td>PAZ, GRAL. AV. y DE LOS CORRALES AV.</td>\n",
       "      <td>9</td>\n",
       "      <td>-58.508775</td>\n",
       "      <td>-34.669777</td>\n",
       "      <td>AUTO-PASAJEROS</td>\n",
       "      <td>AUTO</td>\n",
       "      <td>PASAJEROS</td>\n",
       "      <td>True</td>\n",
       "    </tr>\n",
       "    <tr>\n",
       "      <th>2</th>\n",
       "      <td>2016-0003</td>\n",
       "      <td>1</td>\n",
       "      <td>2016-01-03</td>\n",
       "      <td>2016</td>\n",
       "      <td>1</td>\n",
       "      <td>3</td>\n",
       "      <td>07:00:00</td>\n",
       "      <td>7.0</td>\n",
       "      <td>AV ENTRE RIOS 2034</td>\n",
       "      <td>AVENIDA</td>\n",
       "      <td>ENTRE RIOS AV.</td>\n",
       "      <td>ENTRE RIOS AV. 2034</td>\n",
       "      <td>1</td>\n",
       "      <td>-58.390403</td>\n",
       "      <td>-34.631894</td>\n",
       "      <td>MOTO-AUTO</td>\n",
       "      <td>MOTO</td>\n",
       "      <td>AUTO</td>\n",
       "      <td>False</td>\n",
       "    </tr>\n",
       "    <tr>\n",
       "      <th>3</th>\n",
       "      <td>2016-0004</td>\n",
       "      <td>1</td>\n",
       "      <td>2016-01-10</td>\n",
       "      <td>2016</td>\n",
       "      <td>1</td>\n",
       "      <td>10</td>\n",
       "      <td>00:00:00</td>\n",
       "      <td>0.0</td>\n",
       "      <td>AV LARRAZABAL Y GRAL VILLEGAS CONRADO</td>\n",
       "      <td>AVENIDA</td>\n",
       "      <td>LARRAZABAL AV.</td>\n",
       "      <td>LARRAZABAL AV. y VILLEGAS, CONRADO, GRAL.</td>\n",
       "      <td>8</td>\n",
       "      <td>-58.465039</td>\n",
       "      <td>-34.680930</td>\n",
       "      <td>MOTO-SD</td>\n",
       "      <td>MOTO</td>\n",
       "      <td>SD</td>\n",
       "      <td>True</td>\n",
       "    </tr>\n",
       "    <tr>\n",
       "      <th>4</th>\n",
       "      <td>2016-0005</td>\n",
       "      <td>1</td>\n",
       "      <td>2016-01-21</td>\n",
       "      <td>2016</td>\n",
       "      <td>1</td>\n",
       "      <td>21</td>\n",
       "      <td>05:20:00</td>\n",
       "      <td>5.0</td>\n",
       "      <td>AV SAN JUAN Y PRESIDENTE LUIS SAENZ PEÑA</td>\n",
       "      <td>AVENIDA</td>\n",
       "      <td>SAN JUAN AV.</td>\n",
       "      <td>SAN JUAN AV. y SAENZ PEÃ‘A, LUIS, PRES.</td>\n",
       "      <td>1</td>\n",
       "      <td>-58.387183</td>\n",
       "      <td>-34.622466</td>\n",
       "      <td>MOTO-PASAJEROS</td>\n",
       "      <td>MOTO</td>\n",
       "      <td>PASAJEROS</td>\n",
       "      <td>True</td>\n",
       "    </tr>\n",
       "  </tbody>\n",
       "</table>\n",
       "</div>"
      ],
      "text/plain": [
       "   id_hechos  n_victimas       fecha  anho  mes  dia      hora  \\\n",
       "0  2016-0001           1  2016-01-01  2016    1    1  04:00:00   \n",
       "1  2016-0002           1  2016-01-02  2016    1    2  01:15:00   \n",
       "2  2016-0003           1  2016-01-03  2016    1    3  07:00:00   \n",
       "3  2016-0004           1  2016-01-10  2016    1   10  00:00:00   \n",
       "4  2016-0005           1  2016-01-21  2016    1   21  05:20:00   \n",
       "\n",
       "   franja_horaria                            lugar_del_hecho tipo_de_calle  \\\n",
       "0             4.0  AV PIEDRA BUENA Y AV FERNANDEZ DE LA CRUZ       AVENIDA   \n",
       "1             1.0          AV GRAL PAZ  Y AV DE LOS CORRALES      GRAL PAZ   \n",
       "2             7.0                         AV ENTRE RIOS 2034       AVENIDA   \n",
       "3             0.0      AV LARRAZABAL Y GRAL VILLEGAS CONRADO       AVENIDA   \n",
       "4             5.0  AV SAN JUAN Y PRESIDENTE LUIS SAENZ PEÑA        AVENIDA   \n",
       "\n",
       "              calle                              direccion_normalizada  \\\n",
       "0  PIEDRA BUENA AV.  PIEDRA BUENA AV. y FERNANDEZ DE LA CRUZ, F., G...   \n",
       "1    PAZ, GRAL. AV.               PAZ, GRAL. AV. y DE LOS CORRALES AV.   \n",
       "2    ENTRE RIOS AV.                                ENTRE RIOS AV. 2034   \n",
       "3    LARRAZABAL AV.          LARRAZABAL AV. y VILLEGAS, CONRADO, GRAL.   \n",
       "4      SAN JUAN AV.            SAN JUAN AV. y SAENZ PEÃ‘A, LUIS, PRES.   \n",
       "\n",
       "   comuna   longitud    latitud   participantes victimas    acusado  \\\n",
       "0       8 -58.475340 -34.687570       MOTO-AUTO     MOTO       AUTO   \n",
       "1       9 -58.508775 -34.669777  AUTO-PASAJEROS     AUTO  PASAJEROS   \n",
       "2       1 -58.390403 -34.631894       MOTO-AUTO     MOTO       AUTO   \n",
       "3       8 -58.465039 -34.680930         MOTO-SD     MOTO         SD   \n",
       "4       1 -58.387183 -34.622466  MOTO-PASAJEROS     MOTO  PASAJEROS   \n",
       "\n",
       "   Cruce_boolean  \n",
       "0           True  \n",
       "1           True  \n",
       "2          False  \n",
       "3           True  \n",
       "4           True  "
      ]
     },
     "execution_count": 26,
     "metadata": {},
     "output_type": "execute_result"
    }
   ],
   "source": [
    "hechos.head(5)"
   ]
  },
  {
   "cell_type": "code",
   "execution_count": 27,
   "metadata": {},
   "outputs": [
    {
     "data": {
      "text/html": [
       "<div>\n",
       "<style scoped>\n",
       "    .dataframe tbody tr th:only-of-type {\n",
       "        vertical-align: middle;\n",
       "    }\n",
       "\n",
       "    .dataframe tbody tr th {\n",
       "        vertical-align: top;\n",
       "    }\n",
       "\n",
       "    .dataframe thead th {\n",
       "        text-align: right;\n",
       "    }\n",
       "</style>\n",
       "<table border=\"1\" class=\"dataframe\">\n",
       "  <thead>\n",
       "    <tr style=\"text-align: right;\">\n",
       "      <th></th>\n",
       "      <th>id_hechos</th>\n",
       "      <th>fecha</th>\n",
       "      <th>anho</th>\n",
       "      <th>mes</th>\n",
       "      <th>dia</th>\n",
       "      <th>rol</th>\n",
       "      <th>victimas</th>\n",
       "      <th>sexo</th>\n",
       "      <th>edad</th>\n",
       "      <th>fecha_fallecimiento</th>\n",
       "      <th>misma_fecha_accidente</th>\n",
       "      <th>rango_etario</th>\n",
       "      <th>semestre</th>\n",
       "    </tr>\n",
       "  </thead>\n",
       "  <tbody>\n",
       "    <tr>\n",
       "      <th>0</th>\n",
       "      <td>2016-0001</td>\n",
       "      <td>2016-01-01</td>\n",
       "      <td>2016</td>\n",
       "      <td>1</td>\n",
       "      <td>1</td>\n",
       "      <td>CONDUCTOR</td>\n",
       "      <td>MOTO</td>\n",
       "      <td>MASCULINO</td>\n",
       "      <td>19.0</td>\n",
       "      <td>2016-01-01</td>\n",
       "      <td>True</td>\n",
       "      <td>joven</td>\n",
       "      <td>1</td>\n",
       "    </tr>\n",
       "    <tr>\n",
       "      <th>1</th>\n",
       "      <td>2016-0002</td>\n",
       "      <td>2016-01-02</td>\n",
       "      <td>2016</td>\n",
       "      <td>1</td>\n",
       "      <td>2</td>\n",
       "      <td>CONDUCTOR</td>\n",
       "      <td>AUTO</td>\n",
       "      <td>MASCULINO</td>\n",
       "      <td>70.0</td>\n",
       "      <td>2016-01-02</td>\n",
       "      <td>True</td>\n",
       "      <td>adulto_mayor</td>\n",
       "      <td>1</td>\n",
       "    </tr>\n",
       "    <tr>\n",
       "      <th>2</th>\n",
       "      <td>2016-0003</td>\n",
       "      <td>2016-01-03</td>\n",
       "      <td>2016</td>\n",
       "      <td>1</td>\n",
       "      <td>3</td>\n",
       "      <td>CONDUCTOR</td>\n",
       "      <td>MOTO</td>\n",
       "      <td>MASCULINO</td>\n",
       "      <td>30.0</td>\n",
       "      <td>2016-01-03</td>\n",
       "      <td>True</td>\n",
       "      <td>adulto</td>\n",
       "      <td>1</td>\n",
       "    </tr>\n",
       "    <tr>\n",
       "      <th>3</th>\n",
       "      <td>2016-0004</td>\n",
       "      <td>2016-01-10</td>\n",
       "      <td>2016</td>\n",
       "      <td>1</td>\n",
       "      <td>10</td>\n",
       "      <td>CONDUCTOR</td>\n",
       "      <td>MOTO</td>\n",
       "      <td>MASCULINO</td>\n",
       "      <td>18.0</td>\n",
       "      <td>2016-01-10</td>\n",
       "      <td>True</td>\n",
       "      <td>joven</td>\n",
       "      <td>1</td>\n",
       "    </tr>\n",
       "    <tr>\n",
       "      <th>4</th>\n",
       "      <td>2016-0005</td>\n",
       "      <td>2016-01-21</td>\n",
       "      <td>2016</td>\n",
       "      <td>1</td>\n",
       "      <td>21</td>\n",
       "      <td>CONDUCTOR</td>\n",
       "      <td>MOTO</td>\n",
       "      <td>MASCULINO</td>\n",
       "      <td>29.0</td>\n",
       "      <td>2016-02-01</td>\n",
       "      <td>False</td>\n",
       "      <td>joven</td>\n",
       "      <td>1</td>\n",
       "    </tr>\n",
       "  </tbody>\n",
       "</table>\n",
       "</div>"
      ],
      "text/plain": [
       "   id_hechos       fecha  anho  mes  dia        rol victimas       sexo  edad  \\\n",
       "0  2016-0001  2016-01-01  2016    1    1  CONDUCTOR     MOTO  MASCULINO  19.0   \n",
       "1  2016-0002  2016-01-02  2016    1    2  CONDUCTOR     AUTO  MASCULINO  70.0   \n",
       "2  2016-0003  2016-01-03  2016    1    3  CONDUCTOR     MOTO  MASCULINO  30.0   \n",
       "3  2016-0004  2016-01-10  2016    1   10  CONDUCTOR     MOTO  MASCULINO  18.0   \n",
       "4  2016-0005  2016-01-21  2016    1   21  CONDUCTOR     MOTO  MASCULINO  29.0   \n",
       "\n",
       "  fecha_fallecimiento  misma_fecha_accidente  rango_etario  semestre  \n",
       "0          2016-01-01                   True         joven         1  \n",
       "1          2016-01-02                   True  adulto_mayor         1  \n",
       "2          2016-01-03                   True        adulto         1  \n",
       "3          2016-01-10                   True         joven         1  \n",
       "4          2016-02-01                  False         joven         1  "
      ]
     },
     "execution_count": 27,
     "metadata": {},
     "output_type": "execute_result"
    }
   ],
   "source": [
    "victimas.head(5)"
   ]
  },
  {
   "cell_type": "code",
   "execution_count": 79,
   "metadata": {},
   "outputs": [
    {
     "data": {
      "text/plain": [
       "Index(['id_hechos', 'n_victimas', 'fecha_x', 'anho_x', 'mes_x', 'dia_x',\n",
       "       'hora', 'franja_horaria', 'lugar_del_hecho', 'tipo_de_calle', 'calle',\n",
       "       'direccion_normalizada', 'comuna', 'longitud', 'latitud',\n",
       "       'participantes', 'victimas_x', 'acusado', 'Cruce_boolean', 'fecha_y',\n",
       "       'anho_y', 'mes_y', 'dia_y', 'rol', 'victimas_y', 'sexo', 'edad',\n",
       "       'fecha_fallecimiento', 'misma_fecha_accidente', 'rango_etario',\n",
       "       'semestre'],\n",
       "      dtype='object')"
      ]
     },
     "execution_count": 79,
     "metadata": {},
     "output_type": "execute_result"
    }
   ],
   "source": [
    "data = hechos.merge(victimas,on='id_hechos')\n",
    "\n",
    "data.columns"
   ]
  },
  {
   "cell_type": "code",
   "execution_count": 81,
   "metadata": {},
   "outputs": [
    {
     "data": {
      "text/plain": [
       "0        AVENIDA\n",
       "1       GRAL PAZ\n",
       "2        AVENIDA\n",
       "3        AVENIDA\n",
       "4        AVENIDA\n",
       "         ...    \n",
       "712      AVENIDA\n",
       "713    AUTOPISTA\n",
       "714      AVENIDA\n",
       "715      AVENIDA\n",
       "716        CALLE\n",
       "Name: tipo_de_calle, Length: 717, dtype: object"
      ]
     },
     "execution_count": 81,
     "metadata": {},
     "output_type": "execute_result"
    }
   ],
   "source": [
    "data['tipo_de_calle'] == 'AUTOPISTA'"
   ]
  },
  {
   "cell_type": "markdown",
   "metadata": {},
   "source": [
    "## Relación entre rango etario y fecha de accidente\n",
    "Vamos a analizar la distribucion de personas que mueren en el sitio"
   ]
  },
  {
   "cell_type": "code",
   "execution_count": 84,
   "metadata": {},
   "outputs": [
    {
     "data": {
      "text/plain": [
       "rango_etario  misma_fecha_accidente\n",
       "adulto        False                     46\n",
       "              True                     240\n",
       "adulto_mayor  False                     69\n",
       "              True                     141\n",
       "joven         False                     33\n",
       "              True                     165\n",
       "menor         False                      2\n",
       "              True                      21\n",
       "Name: count, dtype: int64"
      ]
     },
     "execution_count": 84,
     "metadata": {},
     "output_type": "execute_result"
    }
   ],
   "source": [
    "columnas = ['rango_etario','misma_fecha_accidente']\n",
    "\n",
    "data[columnas].groupby(columnas).value_counts()"
   ]
  },
  {
   "cell_type": "code",
   "execution_count": 75,
   "metadata": {},
   "outputs": [
    {
     "data": {
      "text/plain": [
       "rango_etario\n",
       "adulto          286\n",
       "adulto_mayor    210\n",
       "joven           198\n",
       "menor            23\n",
       "Name: count, dtype: int64"
      ]
     },
     "execution_count": 75,
     "metadata": {},
     "output_type": "execute_result"
    }
   ],
   "source": [
    "\n",
    "data['rango_etario'].value_counts()"
   ]
  },
  {
   "cell_type": "code",
   "execution_count": 90,
   "metadata": {},
   "outputs": [
    {
     "data": {
      "image/png": "[encoded data removed]",
      "text/plain": [
       "<Figure size 1000x600 with 1 Axes>"
      ]
     },
     "metadata": {},
     "output_type": "display_data"
    }
   ],
   "source": [
    "\n",
    "# Supongamos que 'data' es tu DataFrame y ya tienes las columnas definidas\n",
    "columnas = ['rango_etario', 'misma_fecha_accidente']\n",
    "\n",
    "# Crear el DataFrame con las frecuencias\n",
    "frecuencias = data[columnas].groupby(columnas).size().reset_index(name='count')\n",
    "\n",
    "# Crear el gráfico de barras\n",
    "plt.figure(figsize=(10, 6))\n",
    "sns.barplot(x='rango_etario', y='count', hue='misma_fecha_accidente', data=frecuencias)\n",
    "\n",
    "# Personalizar el gráfico\n",
    "plt.title('Frecuencia de Combinaciones: Rango Etario vs. Misma Fecha de Accidente')\n",
    "plt.xlabel('Rango Etario')\n",
    "plt.ylabel('Frecuencia')\n",
    "plt.legend(title='Misma Fecha de Accidente', loc='upper right')\n",
    "\n",
    "# Mostrar el gráfico\n",
    "plt.show()"
   ]
  },
  {
   "cell_type": "markdown",
   "metadata": {},
   "source": [
    "## Cantidad de victimas por mes"
   ]
  },
  {
   "cell_type": "code",
   "execution_count": 107,
   "metadata": {},
   "outputs": [
    {
     "data": {
      "text/plain": [
       "mes_x\n",
       "1     62\n",
       "2     59\n",
       "3     56\n",
       "4     52\n",
       "5     60\n",
       "6     58\n",
       "7     51\n",
       "8     67\n",
       "9     51\n",
       "10    52\n",
       "11    68\n",
       "12    81\n",
       "dtype: int64"
      ]
     },
     "execution_count": 107,
     "metadata": {},
     "output_type": "execute_result"
    }
   ],
   "source": [
    "data.groupby('mes_x').size()"
   ]
  },
  {
   "cell_type": "code",
   "execution_count": 111,
   "metadata": {},
   "outputs": [
    {
     "data": {
      "image/png": "[encoded data removed]",
      "text/plain": [
       "<Figure size 1200x600 with 1 Axes>"
      ]
     },
     "metadata": {},
     "output_type": "display_data"
    }
   ],
   "source": [
    "# Crear el gráfico de línea\n",
    "plt.figure(figsize=(12, 6))\n",
    "sns.lineplot( data.groupby('mes_x').size(), marker='o')\n",
    "\n",
    "# Personalizar el gráfico\n",
    "plt.title('Frecuencia de Siniestros Viales por Mes')\n",
    "plt.xlabel('Mes')\n",
    "plt.ylabel('Frecuencia')\n",
    "plt.xticks(range(1, 13), ['Ene', 'Feb', 'Mar', 'Abr', 'May', 'Jun', 'Jul', 'Ago', 'Sep', 'Oct', 'Nov', 'Dic'])\n",
    "\n",
    "# Mostrar el gráfico\n",
    "plt.show()"
   ]
  },
  {
   "cell_type": "markdown",
   "metadata": {},
   "source": [
    "## Victimas por semestre"
   ]
  },
  {
   "cell_type": "code",
   "execution_count": 132,
   "metadata": {},
   "outputs": [
    {
     "data": {
      "text/plain": [
       "array([65, 81, 69, 71, 70, 79, 57, 47, 31, 50, 55, 42], dtype=int64)"
      ]
     },
     "execution_count": 132,
     "metadata": {},
     "output_type": "execute_result"
    }
   ],
   "source": [
    "data.groupby(['anho_x','semestre',]).size().values"
   ]
  },
  {
   "cell_type": "code",
   "execution_count": null,
   "metadata": {},
   "outputs": [],
   "source": []
  }
 ],
 "metadata": {
  "kernelspec": {
   "display_name": "Python 3.10.11 64-bit (microsoft store)",
   "language": "python",
   "name": "python3"
  },
  "language_info": {
   "codemirror_mode": {
    "name": "ipython",
    "version": 3
   },
   "file_extension": ".py",
   "mimetype": "text/x-python",
   "name": "python",
   "nbconvert_exporter": "python",
   "pygments_lexer": "ipython3",
   "version": "3.10.11"
  },
  "orig_nbformat": 4,
  "vscode": {
   "interpreter": {
    "hash": "23f823caeccb1684f6bd50492b68bb5eab208de0408f39b2457c6a38c0e8e818"
   }
  }
 },
 "nbformat": 4,
 "nbformat_minor": 2
}
